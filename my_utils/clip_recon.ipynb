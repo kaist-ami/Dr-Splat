{
 "cells": [
  {
   "cell_type": "code",
   "execution_count": 7,
   "metadata": {},
   "outputs": [],
   "source": [
    "import numpy as np\n",
    "import os\n",
    "import torch\n",
    "\n",
    "import sys\n",
    "from pathlib import Path\n",
    "parent_dir = Path().resolve().parent\n",
    "sys.path.append(str(parent_dir))\n",
    "\n",
    "from eval_scannet.openclip_encoder import OpenCLIPNetwork\n",
    "\n",
    "import faiss\n",
    "\n",
    "from PIL import Image\n",
    "import cv2"
   ]
  },
  {
   "cell_type": "code",
   "execution_count": 5,
   "metadata": {},
   "outputs": [],
   "source": [
    "index = faiss.read_index(\"/home/kjs/project/iclr25/lerf/index_1105_128_1024.faiss\")\n",
    "\n",
    "device = \"cuda\"\n",
    "clip_model = OpenCLIPNetwork(device)"
   ]
  },
  {
   "cell_type": "code",
   "execution_count": 73,
   "metadata": {},
   "outputs": [],
   "source": [
    "img = cv2.imread(\"/home/ugkim/vlm/pqgs/output/scene_dense_pth/pqqs_1_pq_openclip_topk45_weight_128/train/ours_None/gt/00011.png\")\n",
    "img = np.array(img) / 255\n",
    "img = torch.from_numpy(img).permute((2, 0, 1)).float()\n",
    "img = img.unsqueeze(0)\n",
    "img = img.to(device)"
   ]
  },
  {
   "cell_type": "code",
   "execution_count": 74,
   "metadata": {},
   "outputs": [
    {
     "name": "stdout",
     "output_type": "stream",
     "text": [
      "torch.Size([1, 3, 224, 224])\n"
     ]
    }
   ],
   "source": [
    "with torch.no_grad():\n",
    "    feat = clip_model.process(img).half()\n",
    "    print(feat.shape)\n",
    "    feat = clip_model.model.encode_image(feat)\n",
    "feat = feat.cpu().numpy().astype(\"float32\")\n",
    "feat = feat / np.linalg.norm(feat, axis=1, keepdims=True)"
   ]
  },
  {
   "cell_type": "code",
   "execution_count": 75,
   "metadata": {},
   "outputs": [
    {
     "data": {
      "text/plain": [
       "(array([[ 0.07348449,  0.00628038, -0.08114807,  0.0211823 ,  0.0279327 ,\n",
       "         -0.00105027, -0.10320774,  0.02596308,  0.02299076, -0.01672381]],\n",
       "       dtype=float32),\n",
       " (1, 512))"
      ]
     },
     "execution_count": 75,
     "metadata": {},
     "output_type": "execute_result"
    }
   ],
   "source": [
    "feat[..., :10], feat.shape"
   ]
  },
  {
   "cell_type": "code",
   "execution_count": 76,
   "metadata": {},
   "outputs": [],
   "source": [
    "codes = index.sa_encode(feat)"
   ]
  },
  {
   "cell_type": "code",
   "execution_count": 77,
   "metadata": {},
   "outputs": [],
   "source": [
    "rec = index.sa_decode(codes)"
   ]
  },
  {
   "cell_type": "code",
   "execution_count": 78,
   "metadata": {},
   "outputs": [],
   "source": [
    "rec /= np.linalg.norm(rec, axis=1, keepdims=True)"
   ]
  },
  {
   "cell_type": "markdown",
   "metadata": {},
   "source": []
  },
  {
   "cell_type": "code",
   "execution_count": 97,
   "metadata": {},
   "outputs": [
    {
     "name": "stdout",
     "output_type": "stream",
     "text": [
      "Cosine similarity: 0.8495\n"
     ]
    }
   ],
   "source": [
    "sim = float((feat @ rec.T).squeeze())\n",
    "print(f\"Cosine similarity: {sim:.4f}\")"
   ]
  },
  {
   "cell_type": "code",
   "execution_count": 98,
   "metadata": {},
   "outputs": [],
   "source": [
    "text_feat = clip_model.encode_text(\"sofa\", device=device)\n",
    "text_feat = text_feat.detach().cpu().numpy().astype(\"float32\")"
   ]
  },
  {
   "cell_type": "code",
   "execution_count": 99,
   "metadata": {},
   "outputs": [],
   "source": [
    "text_feat = text_feat / np.linalg.norm(text_feat, axis=1, keepdims=True)"
   ]
  },
  {
   "cell_type": "code",
   "execution_count": 100,
   "metadata": {},
   "outputs": [],
   "source": [
    "text_codes = index.sa_encode(text_feat)\n",
    "text_rec = index.sa_decode(text_codes)\n",
    "text_rec /= np.linalg.norm(text_rec, axis=1, keepdims=True)"
   ]
  },
  {
   "cell_type": "code",
   "execution_count": 101,
   "metadata": {},
   "outputs": [
    {
     "name": "stdout",
     "output_type": "stream",
     "text": [
      "Cosine similarity: 0.6541\n"
     ]
    }
   ],
   "source": [
    "text_sim = float((text_feat @ text_rec.T).squeeze())\n",
    "print(f\"Cosine similarity: {text_sim:.4f}\")"
   ]
  },
  {
   "cell_type": "code",
   "execution_count": null,
   "metadata": {},
   "outputs": [],
   "source": []
  },
  {
   "cell_type": "code",
   "execution_count": null,
   "metadata": {},
   "outputs": [],
   "source": []
  }
 ],
 "metadata": {
  "kernelspec": {
   "display_name": "pqgs",
   "language": "python",
   "name": "python3"
  },
  "language_info": {
   "codemirror_mode": {
    "name": "ipython",
    "version": 3
   },
   "file_extension": ".py",
   "mimetype": "text/x-python",
   "name": "python",
   "nbconvert_exporter": "python",
   "pygments_lexer": "ipython3",
   "version": "3.9.21"
  }
 },
 "nbformat": 4,
 "nbformat_minor": 2
}
